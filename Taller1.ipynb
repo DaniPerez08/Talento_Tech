{
  "nbformat": 4,
  "nbformat_minor": 0,
  "metadata": {
    "colab": {
      "provenance": [],
      "toc_visible": true,
      "authorship_tag": "ABX9TyO6yCvcXZoQmbl9NN14K8Br",
      "include_colab_link": true
    },
    "kernelspec": {
      "name": "python3",
      "display_name": "Python 3"
    },
    "language_info": {
      "name": "python"
    }
  },
  "cells": [
    {
      "cell_type": "markdown",
      "metadata": {
        "id": "view-in-github",
        "colab_type": "text"
      },
      "source": [
        "<a href=\"https://colab.research.google.com/github/DaniPerez08/Talento_Tech/blob/main/Taller1.ipynb\" target=\"_parent\"><img src=\"https://colab.research.google.com/assets/colab-badge.svg\" alt=\"Open In Colab\"/></a>"
      ]
    },
    {
      "cell_type": "code",
      "execution_count": null,
      "metadata": {
        "colab": {
          "base_uri": "https://localhost:8080/"
        },
        "id": "3IvdHsCWZReU",
        "outputId": "52790b8d-c288-4002-d093-3939f599798f"
      },
      "outputs": [
        {
          "output_type": "stream",
          "name": "stdout",
          "text": [
            "        Fecha   Region      Producto Vendedor  Ventas\n",
            "0  2024-01-31  Central    Accesorios    David    8287\n",
            "1  2024-02-01  Central    Accesorios    Karen    6909\n",
            "2  2024-02-02  Central  Dispositivos    David   11420\n",
            "3  2024-02-03  Central  Dispositivos    Karen   12948\n",
            "4  2024-02-04  Central      Sistemas    David   20098\n",
            "5  2024-02-05  Central      Sistemas    Karen   30633\n",
            "6  2024-02-06     Este    Accesorios      Ana    9323\n",
            "7  2024-02-07     Este    Accesorios    Lucas    7667\n",
            "8  2024-02-08     Este  Dispositivos      Ana   10348\n",
            "9  2024-02-09     Este  Dispositivos    Lucas    9312\n",
            "10 2024-02-10     Este      Sistemas      Ana   13531\n",
            "11 2024-02-11     Este      Sistemas    Lucas   13374\n",
            "12 2024-02-12    Oeste    Accesorios    Kevin    4744\n",
            "13 2024-02-13    Oeste    Accesorios     Sara    5442\n",
            "14 2024-02-14    Oeste  Dispositivos    Kevin   10711\n",
            "15 2024-02-15    Oeste  Dispositivos     Sara    8780\n",
            "16 2024-02-16    Oeste      Sistemas    Kevin   32855\n",
            "17 2024-02-17    Oeste      Sistemas     Sara   23151\n"
          ]
        }
      ],
      "source": [
        "import pandas as pd\n",
        "import numpy as np\n",
        "\n",
        "df_1 = pd.read_excel('/content/example_ventas.xlsx')\n",
        "\n",
        "print(df_1)"
      ]
    }
  ]
}